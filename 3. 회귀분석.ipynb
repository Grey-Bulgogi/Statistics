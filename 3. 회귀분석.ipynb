{
 "cells": [
  {
   "cell_type": "markdown",
   "metadata": {},
   "source": [
    "# 회귀분석\n",
    "\n",
    "- 특정한 입력변수값을 사용하여 출력변수의 값을 계산하는 것.\n",
    "\n",
    "- 그 값이 연속적인 값을 갖는 것이다.\n",
    "\n",
    "- 독립변수와 종속변수간의 관계식을 모델링 하는 것이다.\n",
    "\n",
    "- 이는 두 변수간의 인과관계를 분석하는 것이라 할 수 있다."
   ]
  },
  {
   "cell_type": "markdown",
   "metadata": {},
   "source": [
    "### Regression\n",
    "> Linear  \n",
    "Non-Linear\n",
    "\n",
    "- 회귀에는 선형회귀와 비선형 회귀가 있다.\n",
    "\n",
    "- 일상생활들의 많은 현상들이 선형적인 관계를 갖고있기에 선형회귀는 간단하지만 매우 효율적인 방법이다.\n",
    "    - ex) 혈압이 증가하면 고혈압에 걸릴 위험이 높다.\n",
    "      \n",
    "- $ y = B_0 + B_1X $ \n",
    "\n",
    "- $B_0$ intercept coefficient 절편이다.\n",
    "\n",
    "- $B_1$ slope, 기울기이다.\n",
    "\n",
    "- 독립변수 X와 종속변수 y간의 관계를 정량화하는 작업이다.\n",
    "\n",
    "- { $B_0$, $B_1$ } 을 ```회귀계수```라고 한다.\n",
    "\n",
    "### 회귀계수를 구하는 방법\n",
    "> 기댓값과 공분산을 이용하는 방법  \n",
    "최소제곱법을 이용하는 방법 (미분이용)\n",
    "\n",
    "\n",
    "- 모집단에 대한 회귀직선(회귀계수)는 구할 수 없다.\n",
    "    - 이를 구하기 위해선 각각 변수들의 정규분포를 알아야한다.\n",
    "    - 하지만 실질적으로 모집단을 측정하다는 것은 불가능.\n",
    "    \n",
    "    -> 이를 해결하기 위해 모집단에서 표본을 추출하여 표본데이터에 대해서 회귀선을 구한다.\n",
    "    \n",
    "- 표본으로부터 얻은 회귀선을 적합회귀선이라 하며 적합회귀모델이라 한다.\n",
    "\n",
    "- 표본으로부터 얻은 회귀계수는 각각 $B_0, B_1$의 추정값(estimator)이다."
   ]
  },
  {
   "cell_type": "code",
   "execution_count": 2,
   "metadata": {},
   "outputs": [],
   "source": [
    "import numpy as np\n",
    "import pandas as pd\n",
    "import matplotlib.pyplot as plt"
   ]
  },
  {
   "cell_type": "code",
   "execution_count": 3,
   "metadata": {},
   "outputs": [
    {
     "data": {
      "text/plain": [
       "[0, 420, 0, 50]"
      ]
     },
     "execution_count": 3,
     "metadata": {},
     "output_type": "execute_result"
    },
    {
     "data": {
      "image/png": "[encoded data removed]",
      "text/plain": [
       "<Figure size 432x288 with 1 Axes>"
      ]
     },
     "metadata": {
      "needs_background": "light"
     },
     "output_type": "display_data"
    }
   ],
   "source": [
    "# 배달거리에 따른 배달시간\n",
    "data = np.array([[100, 20], \n",
    "                 [150, 24], \n",
    "                 [300, 36], \n",
    "                [400, 47], \n",
    "                [130, 22], \n",
    "                [240, 32],\n",
    "                [350, 47], \n",
    "                [200, 42], \n",
    "                [100, 21], \n",
    "                [110, 21], \n",
    "                [190, 30], \n",
    "                [120, 25], \n",
    "                [130, 18], \n",
    "                [270, 38], \n",
    "                [255, 28]])\n",
    "\n",
    "plt.scatter(data[:, 0], data[:, 1])\n",
    "plt.title('Time / Distance')\n",
    "plt.xlabel('Delivery Distance (meter)')\n",
    "plt.ylabel('Time Consumed (minute)')\n",
    "plt.axis([0, 420, 0, 50])"
   ]
  },
  {
   "cell_type": "code",
   "execution_count": 4,
   "metadata": {},
   "outputs": [],
   "source": [
    "# 배달거리에 대한 평균\n",
    "x_bar = np.sum(data[:, 0])/len(data)\n",
    "\n",
    "# 배달시간에 대한 평균\n",
    "y_bar = np.sum(data[:, 1])/len(data)\n",
    "\n",
    "dev_xx = np.sum((data[:, 0] - x_bar)**2)\n",
    "dev_yx = np.sum((data[:, 1] - y_bar)**2)\n",
    "\n",
    "dev_xy = np.sum((data[:, 0] - x_bar)*(data[:, 1] - y_bar))"
   ]
  },
  {
   "cell_type": "code",
   "execution_count": 5,
   "metadata": {},
   "outputs": [],
   "source": [
    "b_1 = dev_xy/dev_xx\n",
    "b_0 = y_bar - b_1 * x_bar"
   ]
  },
  {
   "cell_type": "code",
   "execution_count": 6,
   "metadata": {},
   "outputs": [
    {
     "data": {
      "text/plain": [
       "(0.09229753862877553, 11.330266325025235)"
      ]
     },
     "execution_count": 6,
     "metadata": {},
     "output_type": "execute_result"
    }
   ],
   "source": [
    "b_1, b_0"
   ]
  },
  {
   "cell_type": "code",
   "execution_count": 8,
   "metadata": {},
   "outputs": [],
   "source": [
    "data_x = np.arange(0, 400)\n",
    "data_y = b_0 + b_1 * data_x"
   ]
  },
  {
   "cell_type": "code",
   "execution_count": 9,
   "metadata": {
    "scrolled": false
   },
   "outputs": [
    {
     "name": "stderr",
     "output_type": "stream",
     "text": [
      "C:\\Users\\anjae\\Anaconda3\\lib\\site-packages\\ipykernel_launcher.py:4: MatplotlibDeprecationWarning: Adding an axes using the same arguments as a previous axes currently reuses the earlier instance.  In a future version, a new instance will always be created and returned.  Meanwhile, this warning can be suppressed, and the future behavior ensured, by passing a unique label to each axes instance.\n",
      "  after removing the cwd from sys.path.\n"
     ]
    },
    {
     "data": {
      "text/plain": [
       "[0, 420, 0, 50]"
      ]
     },
     "execution_count": 9,
     "metadata": {},
     "output_type": "execute_result"
    },
    {
     "data": {
      "image/png": "[encoded data removed]",
      "text/plain": [
       "<Figure size 360x360 with 1 Axes>"
      ]
     },
     "metadata": {
      "needs_background": "light"
     },
     "output_type": "display_data"
    }
   ],
   "source": [
    "fig = plt.figure(figsize=(5,5))\n",
    "\n",
    "ax1 = fig.add_subplot()\n",
    "ax2 = fig.add_subplot()\n",
    "\n",
    "ax1 = plt.scatter(x = data[:, 0], y = data[:, 1])\n",
    "ax2 = plt.plot(data_x, data_y, color='r')\n",
    "\n",
    "plt.title('Time / Distance')\n",
    "plt.xlabel('Delivery Distance (meter)')\n",
    "plt.ylabel('Time Consumed (minute)')\n",
    "plt.axis([0, 420, 0, 50])"
   ]
  },
  {
   "cell_type": "markdown",
   "metadata": {},
   "source": [
    " "
   ]
  },
  {
   "cell_type": "markdown",
   "metadata": {},
   "source": [
    "# 최소제곱법에 의한 표본집단의 회귀직선"
   ]
  },
  {
   "cell_type": "code",
   "execution_count": 10,
   "metadata": {},
   "outputs": [
    {
     "data": {
      "text/plain": [
       "[0, 420, 0, 50]"
      ]
     },
     "execution_count": 10,
     "metadata": {},
     "output_type": "execute_result"
    },
    {
     "data": {
      "image/png": "[encoded data removed]",
      "text/plain": [
       "<Figure size 504x360 with 1 Axes>"
      ]
     },
     "metadata": {
      "needs_background": "light"
     },
     "output_type": "display_data"
    }
   ],
   "source": [
    "# 배달거리에 따른 배달시간\n",
    "data = np.array([[100, 20], \n",
    "                 [150, 24], \n",
    "                 [300, 36], \n",
    "                [400, 47], \n",
    "                [130, 22], \n",
    "                [240, 32],\n",
    "                [350, 47], \n",
    "                [200, 42], \n",
    "                [100, 21], \n",
    "                [110, 21], \n",
    "                [190, 30], \n",
    "                [120, 25], \n",
    "                [130, 18], \n",
    "                [270, 38], \n",
    "                [255, 28]])\n",
    "\n",
    "fig = plt.figure(figsize=(7,5))\n",
    "plt.scatter(data[:, 0], data[:, 1])\n",
    "plt.title('Time / Distance')\n",
    "plt.xlabel('Delivery Distance (meter)')\n",
    "plt.ylabel('Time Consumed (minute)')\n",
    "plt.axis([0, 420, 0, 50])"
   ]
  },
  {
   "cell_type": "code",
   "execution_count": 11,
   "metadata": {
    "scrolled": true
   },
   "outputs": [
    {
     "name": "stdout",
     "output_type": "stream",
     "text": [
      "0.09229753862877553 11.330266325025233\n"
     ]
    }
   ],
   "source": [
    "n = len(data)\n",
    "bunza = (n * np.sum(data[:, 0]*data[:, 1])) - (np.sum(data[:, 0]) * np.sum(data[:, 1]))\n",
    "bunmo = ((n * np.sum(data[:, 0]**2)) - np.sum(data[:, 0]) **2)\n",
    "\n",
    "b_1 = bunza/bunmo\n",
    "b_0 = ( np.sum(data[:, 1]) - ( b_1 * np.sum(data[:, 0]) ) ) / n\n",
    "print(b_1, b_0)"
   ]
  },
  {
   "cell_type": "code",
   "execution_count": 13,
   "metadata": {},
   "outputs": [],
   "source": [
    "data_x = np.arange(0, 400)\n",
    "data_y = b_0 + b_1 * data_x"
   ]
  },
  {
   "cell_type": "code",
   "execution_count": 15,
   "metadata": {},
   "outputs": [
    {
     "name": "stderr",
     "output_type": "stream",
     "text": [
      "C:\\Users\\anjae\\Anaconda3\\lib\\site-packages\\ipykernel_launcher.py:4: MatplotlibDeprecationWarning: Adding an axes using the same arguments as a previous axes currently reuses the earlier instance.  In a future version, a new instance will always be created and returned.  Meanwhile, this warning can be suppressed, and the future behavior ensured, by passing a unique label to each axes instance.\n",
      "  after removing the cwd from sys.path.\n"
     ]
    },
    {
     "data": {
      "text/plain": [
       "[0, 420, 0, 50]"
      ]
     },
     "execution_count": 15,
     "metadata": {},
     "output_type": "execute_result"
    },
    {
     "data": {
      "image/png": "[encoded data removed]",
      "text/plain": [
       "<Figure size 504x360 with 1 Axes>"
      ]
     },
     "metadata": {
      "needs_background": "light"
     },
     "output_type": "display_data"
    }
   ],
   "source": [
    "fig = plt.figure(figsize=(7,5))\n",
    "\n",
    "ax1 = fig.add_subplot()\n",
    "ax2 = fig.add_subplot()\n",
    "\n",
    "ax1 = plt.scatter(x = data[:, 0], y = data[:, 1])\n",
    "ax2 = plt.plot(data_x, data_y, color='r')\n",
    "\n",
    "plt.title('Time / Distance')\n",
    "plt.xlabel('Delivery Distance (meter)')\n",
    "plt.ylabel('Time Consumed (minute)')\n",
    "plt.axis([0, 420, 0, 50])"
   ]
  },
  {
   "cell_type": "markdown",
   "metadata": {},
   "source": [
    "# 결정계수\n",
    "\n",
    "- $y_i - pred(y_i)$의 분해\n",
    "\n",
    "- 설명 가능한 분산 과 설명 불가능한 분산\n",
    "\n",
    "- y_bar: 종속변수의 평균\n",
    "\n",
    "- T: 평균 요금으로부터 총 얼마나 떨어져 있는지\n",
    "\n",
    "- R: y_bar에서 y_real까지 떨어진 거리 중 배달거리(독립변수)로 설명이 가능한 거리\n",
    "\n",
    "- E: y_bar에서 y_real까지 떨어진 거리중 배달거리(독립변수)로 설명이 안되는 부분.\n",
    "    - 즉, 여기에는 날씨, 탈것 등 설명이 불가능한 변수에 의한 영향력이 들어가있는 것."
   ]
  },
  {
   "cell_type": "code",
   "execution_count": 16,
   "metadata": {},
   "outputs": [],
   "source": [
    "y_hat = b_0 + b_1*data[6, 0]"
   ]
  },
  {
   "cell_type": "code",
   "execution_count": 17,
   "metadata": {},
   "outputs": [],
   "source": [
    "data_tmp = (data[6, 0], y_hat)"
   ]
  },
  {
   "cell_type": "code",
   "execution_count": 18,
   "metadata": {},
   "outputs": [
    {
     "data": {
      "text/plain": [
       "(350, 43.63440484509667)"
      ]
     },
     "execution_count": 18,
     "metadata": {},
     "output_type": "execute_result"
    }
   ],
   "source": [
    "data_tmp"
   ]
  },
  {
   "cell_type": "code",
   "execution_count": 19,
   "metadata": {
    "scrolled": true
   },
   "outputs": [
    {
     "data": {
      "image/png": "[encoded data removed]",
      "text/plain": [
       "<Figure size 504x360 with 1 Axes>"
      ]
     },
     "metadata": {
      "needs_background": "light"
     },
     "output_type": "display_data"
    }
   ],
   "source": [
    "y_bar = np.mean(data[:, 1])\n",
    "\n",
    "fig, ax = plt.subplots(sharex = True, figsize=(7,5))\n",
    "\n",
    "ax.scatter(x = data[:, 0], y = data[:, 1], label='data')\n",
    "ax.plot(data_x, data_y, color='r', label = 'linear_regression')\n",
    "ax.plot((0,400), (np.mean(data[:, 1]), np.mean(data[:, 1])), ls='--', label='y_bar')\n",
    "ax.plot( (data_tmp[0], data_tmp[0]), (y_bar, data_tmp[1]), label='explanable_var' )\n",
    "ax.plot( (data_tmp[0], data_tmp[0]), (data_tmp[1], data[6, 1]), label='unexplanable_var' )\n",
    "\n",
    "plt.title('Time / Distance')\n",
    "plt.xlabel('Delivery Distance (meter)')\n",
    "plt.ylabel('Time Consumed (minute)')\n",
    "plt.axis([0, 420, 0, 50])\n",
    "plt.legend()\n",
    "plt.show()"
   ]
  },
  {
   "cell_type": "code",
   "execution_count": 34,
   "metadata": {},
   "outputs": [],
   "source": [
    "sst = (y_bar - data[6, 1]) ** 2\n",
    "ssr = (y_bar - data_tmp[1])**2         # 회귀선으로 설명 됨\n",
    "sse = (data_tmp[1] - data[6, 1])**2    # 회귀선으로 설명 안됨"
   ]
  },
  {
   "cell_type": "code",
   "execution_count": 45,
   "metadata": {},
   "outputs": [
    {
     "data": {
      "text/plain": [
       "0.6419925574686293"
      ]
     },
     "execution_count": 45,
     "metadata": {},
     "output_type": "execute_result"
    }
   ],
   "source": [
    "r = ssr/sst\n",
    "r"
   ]
  },
  {
   "cell_type": "markdown",
   "metadata": {},
   "source": [
    "### 결정계수\n",
    "\n",
    "- SST = SSR/SSE"
   ]
  }
 ],
 "metadata": {
  "kernelspec": {
   "display_name": "Python 3",
   "language": "python",
   "name": "python3"
  },
  "language_info": {
   "codemirror_mode": {
    "name": "ipython",
    "version": 3
   },
   "file_extension": ".py",
   "mimetype": "text/x-python",
   "name": "python",
   "nbconvert_exporter": "python",
   "pygments_lexer": "ipython3",
   "version": "3.6.9"
  }
 },
 "nbformat": 4,
 "nbformat_minor": 2
}
