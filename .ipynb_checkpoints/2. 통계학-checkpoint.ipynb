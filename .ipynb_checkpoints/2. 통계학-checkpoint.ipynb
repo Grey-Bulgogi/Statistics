{
 "cells": [
  {
   "cell_type": "markdown",
   "metadata": {},
   "source": [
    "# 통계학\n",
    "\n",
    "- 통계학은 자료를 분석하는 학문"
   ]
  },
  {
   "cell_type": "markdown",
   "metadata": {},
   "source": [
    "## 자료\n",
    "\n",
    "- 모집단\n",
    "    - 모수: 모집단의 특성\n",
    "\n",
    "- 표본 집단\n",
    "    - 통계량: 모수에 대응하는 표본의 특성"
   ]
  },
  {
   "cell_type": "markdown",
   "metadata": {},
   "source": [
    "## 변수\n",
    "\n",
    "- 숫자로 표현할 수 있는 특성을 확률변수 라고한다.\n",
    "    - 이산확률 변수: 가족의 수, 성공과 실패, 여자와 남자\n",
    "    \n",
    "    - 연속확률 변수: 소득 액, 주택 가격"
   ]
  },
  {
   "cell_type": "markdown",
   "metadata": {},
   "source": [
    "## Histogram\n",
    "\n",
    "- 자료를 정리하기 위한 그림\n",
    "- 하나의 변수에 대해서 분석하기 용이하다.\n",
    "- 숫자 구간별로 그 구간에 속한 자료의 개수 또는 점유율을 보여주는 그림\n",
    "\n",
    "    - 경험적 Histogram\n",
    "    - 확률 Historgram"
   ]
  },
  {
   "cell_type": "markdown",
   "metadata": {},
   "source": [
    "### 이산변수의 경험적 Histrogram"
   ]
  },
  {
   "cell_type": "code",
   "execution_count": 2,
   "metadata": {},
   "outputs": [],
   "source": [
    "import math as m\n",
    "import numpy as np\n",
    "import pandas as pd\n",
    "import matplotlib.pyplot as plt"
   ]
  },
  {
   "cell_type": "code",
   "execution_count": 3,
   "metadata": {},
   "outputs": [],
   "source": [
    "def toss_dice(n=100):\n",
    "    return np.random.choice(np.arange(1, 7, 1), size= n) # 각 경우의 수에 따라 p가 주어져있다."
   ]
  },
  {
   "cell_type": "code",
   "execution_count": 4,
   "metadata": {
    "scrolled": false
   },
   "outputs": [
    {
     "data": {
      "image/png": "[encoded data removed]",
      "text/plain": [
       "<Figure size 432x288 with 4 Axes>"
      ]
     },
     "metadata": {
      "needs_background": "light"
     },
     "output_type": "display_data"
    }
   ],
   "source": [
    "#주사위 던지기\n",
    "res = toss_dice(n=100)\n",
    "res2 = toss_dice(n=400)\n",
    "res3 = toss_dice(n=1000)\n",
    "res4 = toss_dice(n=10000)\n",
    "\n",
    "title=['n=100', 'n=400', 'n=1000', 'n=10000']\n",
    "res_l=[res, res2, res3, res4]\n",
    "\n",
    "fig, axes = plt.subplots(2, 2, figsize=(6,4))\n",
    "\n",
    "idx = 0\n",
    "for i in range(2):\n",
    "    for j in range(2):\n",
    "        ax = axes[i][j]\n",
    "        ax.hist(res_l[idx], bins=np.arange(0.5, 7, 1), ec='k')\n",
    "        ax.set_xticks([1, 2, 3, 4, 5, 6])\n",
    "        ax.set_title(f'Histogram of {title[idx]}')\n",
    "        ax.set_xlabel('Number')\n",
    "        ax.set_ylabel('# of res')\n",
    "        idx += 1    \n",
    "        \n",
    "plt.tight_layout()"
   ]
  },
  {
   "cell_type": "markdown",
   "metadata": {},
   "source": [
    "### 연속변수의 경험적 Histogram"
   ]
  },
  {
   "cell_type": "code",
   "execution_count": 5,
   "metadata": {},
   "outputs": [
    {
     "data": {
      "text/html": [
       "<div>\n",
       "<style scoped>\n",
       "    .dataframe tbody tr th:only-of-type {\n",
       "        vertical-align: middle;\n",
       "    }\n",
       "\n",
       "    .dataframe tbody tr th {\n",
       "        vertical-align: top;\n",
       "    }\n",
       "\n",
       "    .dataframe thead th {\n",
       "        text-align: right;\n",
       "    }\n",
       "</style>\n",
       "<table border=\"1\" class=\"dataframe\">\n",
       "  <thead>\n",
       "    <tr style=\"text-align: right;\">\n",
       "      <th></th>\n",
       "      <th>체중(5Kg단위)</th>\n",
       "    </tr>\n",
       "  </thead>\n",
       "  <tbody>\n",
       "    <tr>\n",
       "      <td>0</td>\n",
       "      <td>60</td>\n",
       "    </tr>\n",
       "    <tr>\n",
       "      <td>1</td>\n",
       "      <td>55</td>\n",
       "    </tr>\n",
       "    <tr>\n",
       "      <td>2</td>\n",
       "      <td>70</td>\n",
       "    </tr>\n",
       "    <tr>\n",
       "      <td>3</td>\n",
       "      <td>45</td>\n",
       "    </tr>\n",
       "    <tr>\n",
       "      <td>4</td>\n",
       "      <td>50</td>\n",
       "    </tr>\n",
       "  </tbody>\n",
       "</table>\n",
       "</div>"
      ],
      "text/plain": [
       "   체중(5Kg단위)\n",
       "0         60\n",
       "1         55\n",
       "2         70\n",
       "3         45\n",
       "4         50"
      ]
     },
     "execution_count": 5,
     "metadata": {},
     "output_type": "execute_result"
    }
   ],
   "source": [
    "DF = pd.read_csv('C://Users/anjae/Documents/[0] Dataset/health_screening/Health_screenings.csv')\n",
    "DF_weight = DF[['체중(5Kg단위)']]\n",
    "DF_weight.head()"
   ]
  },
  {
   "cell_type": "code",
   "execution_count": 6,
   "metadata": {
    "scrolled": false
   },
   "outputs": [
    {
     "data": {
      "text/plain": [
       "Text(0, 0.5, '# of people')"
      ]
     },
     "execution_count": 6,
     "metadata": {},
     "output_type": "execute_result"
    },
    {
     "data": {
      "image/png": "[encoded data removed]",
      "text/plain": [
       "<Figure size 432x288 with 1 Axes>"
      ]
     },
     "metadata": {
      "needs_background": "light"
     },
     "output_type": "display_data"
    }
   ],
   "source": [
    "plt.hist(DF_weight.values, ec='k')\n",
    "plt.title('Histogram of weight')\n",
    "plt.xlabel('weighte')\n",
    "plt.ylabel('# of people')"
   ]
  },
  {
   "cell_type": "markdown",
   "metadata": {},
   "source": [
    "### 통계치\n",
    "\n",
    "- 통계치: 표본집단으로부터 얻을 수 있는 표본의 특성\n",
    "\n",
    "- 모집단에서 표본을 추출하고, 그 표본으로부터 얻을 수 있는 대표적 통계치\n",
    "    - 평균, 중앙값, 표준편차, 사분위수 범위"
   ]
  },
  {
   "cell_type": "code",
   "execution_count": 7,
   "metadata": {},
   "outputs": [],
   "source": [
    "class Statistics(object):\n",
    "    def __init__(self, data):\n",
    "        self.data = np.array(data)\n",
    "        \n",
    "    def mean(self):\n",
    "        res = 0\n",
    "        for i in self.data:\n",
    "            res += i\n",
    "            \n",
    "        res = res/len(self.data)\n",
    "        \n",
    "        return res\n",
    "    \n",
    "    def median(self):\n",
    "        data_sort = sorted(self.data)\n",
    "        \n",
    "        if len(self.data) % 2 == 0:\n",
    "            idx = int(len(self.data)/2)\n",
    "            res = (data_sort[idx] + data_sort[idx + 1])/2\n",
    "        else:\n",
    "            idx = (len(self.data) +1) / 2\n",
    "            res = data_sort[idx]\n",
    "\n",
    "        return res\n",
    "\n",
    "    def most_fequent(self):\n",
    "        tmp_dict = {str(i):1 for i in np.unique(self.data)}\n",
    "        \n",
    "        for i in self.data.reshape(-1):\n",
    "            tmp_dict[str(i)] += 1\n",
    "            \n",
    "        return int(max(tmp_dict, key=lambda x: tmp_dict[x]))"
   ]
  },
  {
   "cell_type": "code",
   "execution_count": 8,
   "metadata": {},
   "outputs": [
    {
     "name": "stdout",
     "output_type": "stream",
     "text": [
      "평균 [63.589255]\n",
      "중앙값 [60.]\n",
      "최빈값 60\n"
     ]
    }
   ],
   "source": [
    "s = Statistics(DF_weight)\n",
    "mean_val = s.mean()\n",
    "median_val = s.median()\n",
    "moFe = s.most_fequent()\n",
    "\n",
    "print('평균', mean_val)\n",
    "print('중앙값', median_val)\n",
    "print('최빈값', moFe)"
   ]
  },
  {
   "cell_type": "code",
   "execution_count": 9,
   "metadata": {
    "scrolled": false
   },
   "outputs": [
    {
     "data": {
      "text/plain": [
       "<matplotlib.legend.Legend at 0x1e7ca466898>"
      ]
     },
     "execution_count": 9,
     "metadata": {},
     "output_type": "execute_result"
    },
    {
     "data": {
      "image/png": "[encoded data removed]",
      "text/plain": [
       "<Figure size 504x504 with 1 Axes>"
      ]
     },
     "metadata": {
      "needs_background": "light"
     },
     "output_type": "display_data"
    }
   ],
   "source": [
    "fig, ax= plt.subplots(sharex=True, figsize=(7, 7))\n",
    "ax.scatter(moFe, 0, color='g', s=100, label='most frequent', zorder=2)\n",
    "ax.hist(DF_weight.values, ec='k', color='white')\n",
    "ax.bar(mean_val, height=300000, color='r', label='mean')\n",
    "ax.bar(median_val, height=300000, color='y', label='median')\n",
    "\n",
    "\n",
    "ax.set_title('Histogram of weight')\n",
    "ax.set_xlabel('Histogram of weight')\n",
    "ax.set_ylabel('Histogram of weight')\n",
    "ax.legend()"
   ]
  },
  {
   "cell_type": "code",
   "execution_count": 10,
   "metadata": {
    "scrolled": true
   },
   "outputs": [
    {
     "data": {
      "text/plain": [
       "(60, 150199)"
      ]
     },
     "execution_count": 10,
     "metadata": {},
     "output_type": "execute_result"
    }
   ],
   "source": [
    "from collections import Counter as cc\n",
    "\n",
    "cnt = cc(DF_weight.values.reshape(-1))\n",
    "cnt.most_common()[0]"
   ]
  },
  {
   "cell_type": "markdown",
   "metadata": {},
   "source": [
    "### 평균의 법칙\n",
    "\n",
    "- 경험적 histogram을 생성하는 랜덤변수 X를 무한히 반복하면 확률 히스토그램으로 수렴한다."
   ]
  },
  {
   "cell_type": "code",
   "execution_count": 26,
   "metadata": {},
   "outputs": [],
   "source": [
    "def toss_dice(n=100):\n",
    "    d1 = np.random.choice(np.arange(1, 7, 1), size= n)\n",
    "    d2 = np.random.choice(np.arange(1, 7, 1), size= n)\n",
    "    return d1+d2\n",
    "\n",
    "def cal_prob_dice():\n",
    "    number_of_cases = 36\n",
    "    dice_pair = [(i, j) for i in range(1, 7) for j in range(1, 7)]\n",
    "    dice_dict = {str(i):0 for i in range(2, 13)}\n",
    "    \n",
    "    for i in range(2, 13):\n",
    "        val = np.sum(np.sum(dice_pair, axis=1) == i)\n",
    "        dice_dict[str(i)] = val\n",
    "    \n",
    "    prob = np.array(list(dice_dict.values())) / 36\n",
    "    return prob * 100\n",
    "    \n"
   ]
  },
  {
   "cell_type": "markdown",
   "metadata": {},
   "source": [
    "##### 경험적 Histrogram -> 확률 Histogram 으로 수렴"
   ]
  },
  {
   "cell_type": "code",
   "execution_count": 28,
   "metadata": {
    "scrolled": false
   },
   "outputs": [
    {
     "data": {
      "image/png": "[encoded data removed]",
      "text/plain": [
       "<Figure size 648x648 with 5 Axes>"
      ]
     },
     "metadata": {
      "needs_background": "light"
     },
     "output_type": "display_data"
    }
   ],
   "source": [
    "# 한쌍의 주사위를 던져 나온 눈의 합\n",
    "res = toss_dice(n=100)\n",
    "res2 = toss_dice(n=400)\n",
    "res3 = toss_dice(n=1000)\n",
    "res4 = toss_dice(n=10000)\n",
    "\n",
    "title=['n=100', 'n=400', 'n=1000', 'n=10000', 'prob_histogram']\n",
    "res_l=[res, res2, res3, res4]\n",
    "\n",
    "fig, axes = plt.subplots(5, 1, figsize=(9,9))\n",
    "\n",
    "idx = 0\n",
    "\n",
    "for i in range(5):\n",
    "    ax = axes[i]\n",
    "    \n",
    "    if i == 4:\n",
    "        prob = cal_prob_dice()\n",
    "        ax.bar(np.arange(2,13, 1), height = prob, ec='k')\n",
    "        ax.set_xticks(np.arange(2,13, 1))\n",
    "        ax.set_title(f'Histogram of {title[idx]}')\n",
    "        ax.set_xlabel('case')\n",
    "        ax.set_ylabel('probability')\n",
    "        \n",
    "    else:\n",
    "        ax.hist(res_l[idx], bins=np.arange(1.5, 14, 1), ec='k')\n",
    "        ax.set_xticks(np.arange(2,13, 1))\n",
    "        ax.set_title(f'Histogram of {title[idx]}')\n",
    "        ax.set_xlabel('case')\n",
    "        ax.set_ylabel('# of res')\n",
    "    idx += 1    \n",
    "    \n",
    "plt.tight_layout()"
   ]
  },
  {
   "cell_type": "code",
   "execution_count": null,
   "metadata": {},
   "outputs": [],
   "source": []
  }
 ],
 "metadata": {
  "kernelspec": {
   "display_name": "Python 3",
   "language": "python",
   "name": "python3"
  },
  "language_info": {
   "codemirror_mode": {
    "name": "ipython",
    "version": 3
   },
   "file_extension": ".py",
   "mimetype": "text/x-python",
   "name": "python",
   "nbconvert_exporter": "python",
   "pygments_lexer": "ipython3",
   "version": "3.6.9"
  }
 },
 "nbformat": 4,
 "nbformat_minor": 2
}
