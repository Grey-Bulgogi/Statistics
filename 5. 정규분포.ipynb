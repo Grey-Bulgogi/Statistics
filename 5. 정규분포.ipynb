{
 "cells": [
  {
   "cell_type": "markdown",
   "metadata": {},
   "source": [
    "# 정규분포\n",
    "\n",
    "- 확률밀도함수(Probability denstiy function)\n",
    "    - 밀도 단위를 써서 확룰과 관련된 개념을 나타내주는 함수\n",
    "    - 가로축을 x로 세로축을 $f(X)$로 두고 (x, f(x))의 관계를 도식화한 것이다.\n",
    "    - 밀도함수는 평균이 mu이고, 표준편차가 시그마인 정규분포곡선의 그래프로 표현할 수 있다.\n",
    "\n",
    "\n",
    "- 정규분포곡선은 실제 자료의 분포가 아니라 실제 자료의 분포를 근사시켜 줄 하나의 수학적 모형이다.\n",
    "\n",
    "\n",
    "- 평균이 0이고, 표준편차가 1인 정규분포를 특별히 `표준정규분포`라고 한다.\n",
    "\n",
    "- 확률변수 Z가 표준 정규분포를 따를 때,\n",
    "$$ Z ~ N(0, 1) $$\n",
    "\n",
    "- 표준정규분포의 확률밀도함수\n",
    "$$ f(z) = (1 / \\sqrt{2\\pi}*\\sigma)*{\\exp^{-1/2z^2}}$$\n",
    "\n",
    "- 정규분포곡선을 이용하면 어떠 구간 내에 속한 숫자의 비율을 근사적으로 쉽게 알아낼 수 있다.\n",
    "\n",
    "- 표준정규분포곡선 아래의 영역은 Z-값으로 찾을 수 있다.\n",
    "\n",
    "\n",
    "#### Gaussian Distribution\n",
    "\n",
    "- 가우시안 분포는 보통 정규분포로 알려져있다.\n",
    "    - 그 이유는, 연속 확률 분포 중 가장 널리 알려진 분포이기 때문."
   ]
  },
  {
   "cell_type": "code",
   "execution_count": 2,
   "metadata": {},
   "outputs": [],
   "source": [
    "import math as m\n",
    "import numpy as np\n",
    "import pandas as pd\n",
    "import matplotlib.pyplot as plt"
   ]
  },
  {
   "cell_type": "code",
   "execution_count": 44,
   "metadata": {},
   "outputs": [],
   "source": [
    "def sum_(data):\n",
    "    res = 0\n",
    "    for i in data:\n",
    "        res += i\n",
    "        \n",
    "    return res\n",
    "\n",
    "def mean_(data):\n",
    "    return sum_(data)/len(data)\n",
    "\n",
    "def var_(data):\n",
    "    mean_val = mean_(data)\n",
    "    return sum_((data-mean_val)**2) / (len(data)-1)\n",
    "\n",
    "def std_(data):\n",
    "    return np.sqrt(var_(data))\n",
    "\n",
    "def draw_norm(data, ax):\n",
    "    mean_val = mean_(data)\n",
    "    std_val = std_(data)\n",
    "    \n",
    "    x = np.arange(np.min(data) - std_val*3, np.max(data) +std_val*3, 0.1)\n",
    "    \n",
    "    fz = ( 1 / ( np.sqrt(2*np.pi) * std_val ) ) \\\n",
    "    * ( np.exp(  (-1 /2)  *  ((x - mean_val)/std_val)**2 ) )\n",
    "    \n",
    "    return ax.plot(x, fz)"
   ]
  },
  {
   "cell_type": "code",
   "execution_count": 45,
   "metadata": {},
   "outputs": [],
   "source": [
    "path = 'c://users/anjae/Documents/[0] Dataset/pima_diabetes/diabetes.csv'\n",
    "\n",
    "DF = pd.read_csv(path)"
   ]
  },
  {
   "cell_type": "code",
   "execution_count": 46,
   "metadata": {
    "scrolled": true
   },
   "outputs": [
    {
     "data": {
      "text/html": [
       "<div>\n",
       "<style scoped>\n",
       "    .dataframe tbody tr th:only-of-type {\n",
       "        vertical-align: middle;\n",
       "    }\n",
       "\n",
       "    .dataframe tbody tr th {\n",
       "        vertical-align: top;\n",
       "    }\n",
       "\n",
       "    .dataframe thead th {\n",
       "        text-align: right;\n",
       "    }\n",
       "</style>\n",
       "<table border=\"1\" class=\"dataframe\">\n",
       "  <thead>\n",
       "    <tr style=\"text-align: right;\">\n",
       "      <th></th>\n",
       "      <th>Pregnancies</th>\n",
       "      <th>Glucose</th>\n",
       "      <th>BloodPressure</th>\n",
       "      <th>SkinThickness</th>\n",
       "      <th>Insulin</th>\n",
       "      <th>BMI</th>\n",
       "      <th>DiabetesPedigreeFunction</th>\n",
       "      <th>Age</th>\n",
       "      <th>Outcome</th>\n",
       "    </tr>\n",
       "  </thead>\n",
       "  <tbody>\n",
       "    <tr>\n",
       "      <td>0</td>\n",
       "      <td>6</td>\n",
       "      <td>148</td>\n",
       "      <td>72</td>\n",
       "      <td>35</td>\n",
       "      <td>0</td>\n",
       "      <td>33.6</td>\n",
       "      <td>0.627</td>\n",
       "      <td>50</td>\n",
       "      <td>1</td>\n",
       "    </tr>\n",
       "    <tr>\n",
       "      <td>1</td>\n",
       "      <td>1</td>\n",
       "      <td>85</td>\n",
       "      <td>66</td>\n",
       "      <td>29</td>\n",
       "      <td>0</td>\n",
       "      <td>26.6</td>\n",
       "      <td>0.351</td>\n",
       "      <td>31</td>\n",
       "      <td>0</td>\n",
       "    </tr>\n",
       "    <tr>\n",
       "      <td>2</td>\n",
       "      <td>8</td>\n",
       "      <td>183</td>\n",
       "      <td>64</td>\n",
       "      <td>0</td>\n",
       "      <td>0</td>\n",
       "      <td>23.3</td>\n",
       "      <td>0.672</td>\n",
       "      <td>32</td>\n",
       "      <td>1</td>\n",
       "    </tr>\n",
       "    <tr>\n",
       "      <td>3</td>\n",
       "      <td>1</td>\n",
       "      <td>89</td>\n",
       "      <td>66</td>\n",
       "      <td>23</td>\n",
       "      <td>94</td>\n",
       "      <td>28.1</td>\n",
       "      <td>0.167</td>\n",
       "      <td>21</td>\n",
       "      <td>0</td>\n",
       "    </tr>\n",
       "    <tr>\n",
       "      <td>4</td>\n",
       "      <td>0</td>\n",
       "      <td>137</td>\n",
       "      <td>40</td>\n",
       "      <td>35</td>\n",
       "      <td>168</td>\n",
       "      <td>43.1</td>\n",
       "      <td>2.288</td>\n",
       "      <td>33</td>\n",
       "      <td>1</td>\n",
       "    </tr>\n",
       "  </tbody>\n",
       "</table>\n",
       "</div>"
      ],
      "text/plain": [
       "   Pregnancies  Glucose  BloodPressure  SkinThickness  Insulin   BMI  \\\n",
       "0            6      148             72             35        0  33.6   \n",
       "1            1       85             66             29        0  26.6   \n",
       "2            8      183             64              0        0  23.3   \n",
       "3            1       89             66             23       94  28.1   \n",
       "4            0      137             40             35      168  43.1   \n",
       "\n",
       "   DiabetesPedigreeFunction  Age  Outcome  \n",
       "0                     0.627   50        1  \n",
       "1                     0.351   31        0  \n",
       "2                     0.672   32        1  \n",
       "3                     0.167   21        0  \n",
       "4                     2.288   33        1  "
      ]
     },
     "execution_count": 46,
     "metadata": {},
     "output_type": "execute_result"
    }
   ],
   "source": [
    "DF.head()"
   ]
  },
  {
   "cell_type": "code",
   "execution_count": 47,
   "metadata": {
    "scrolled": false
   },
   "outputs": [
    {
     "data": {
      "text/plain": [
       "<matplotlib.legend.Legend at 0x1ae12406d30>"
      ]
     },
     "execution_count": 47,
     "metadata": {},
     "output_type": "execute_result"
    },
    {
     "data": {
      "image/png": "[encoded data removed]",
      "text/plain": [
       "<Figure size 576x576 with 1 Axes>"
      ]
     },
     "metadata": {
      "needs_background": "light"
     },
     "output_type": "display_data"
    }
   ],
   "source": [
    "data = DF.BloodPressure\n",
    "\n",
    "fig, ax = plt.subplots(figsize=(8,8))\n",
    "\n",
    "draw_norm(data, ax)\n",
    "\n",
    "ax.bar(mean_(data), height= 0.02, label='mean')\n",
    "ax.bar(np.median(data), height= 0.02, label='median')\n",
    "ax.legend()"
   ]
  },
  {
   "cell_type": "markdown",
   "metadata": {},
   "source": [
    "# 표준정규분포\n",
    "\n",
    "- 평균을 0, 표준편차를 1로 만들어 정규화시킨 것.\n",
    "\n",
    "- 특별한 형태이며, 정규화 시킬 경우 두 개의 표본 분포를 비교할 수 있다."
   ]
  },
  {
   "cell_type": "code",
   "execution_count": 48,
   "metadata": {},
   "outputs": [
    {
     "data": {
      "text/plain": [
       "<matplotlib.legend.Legend at 0x1ae12455cf8>"
      ]
     },
     "execution_count": 48,
     "metadata": {},
     "output_type": "execute_result"
    },
    {
     "data": {
      "image/png": "[encoded data removed]",
      "text/plain": [
       "<Figure size 576x576 with 1 Axes>"
      ]
     },
     "metadata": {
      "needs_background": "light"
     },
     "output_type": "display_data"
    }
   ],
   "source": [
    "x_ = (data - mean_(data)) / std_(data)\n",
    "\n",
    "fig, ax = plt.subplots(figsize=(8,8))\n",
    "\n",
    "draw_norm(x_, ax)\n",
    "\n",
    "ax.scatter(mean_(x_), 0, label='mean', lw = 1)\n",
    "ax.scatter(np.median(x_), 0, label='median', lw=1)\n",
    "ax.legend()"
   ]
  }
 ],
 "metadata": {
  "kernelspec": {
   "display_name": "Python 3",
   "language": "python",
   "name": "python3"
  },
  "language_info": {
   "codemirror_mode": {
    "name": "ipython",
    "version": 3
   },
   "file_extension": ".py",
   "mimetype": "text/x-python",
   "name": "python",
   "nbconvert_exporter": "python",
   "pygments_lexer": "ipython3",
   "version": "3.6.9"
  }
 },
 "nbformat": 4,
 "nbformat_minor": 2
}
